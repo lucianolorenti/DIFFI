{
 "cells": [
  {
   "cell_type": "markdown",
   "metadata": {},
   "source": [
    "# Unsupervised feature selection with global DIFFI"
   ]
  },
  {
   "cell_type": "markdown",
   "metadata": {},
   "source": [
    "In this notebook are reproduced the experimental results on unsupervised feature selection with global DIFFI described in our paper [Interpretable Anomaly Detection with DIFFI: Depth-based Feature Importance for the Isolation Forest](https://arxiv.org/pdf/2007.11117.pdf).\n",
    "\n",
    "The present code represents the very first release of the DIFFI algorithm: the code in this version is not yet optimized."
   ]
  },
  {
   "cell_type": "code",
   "execution_count": 1,
   "metadata": {},
   "outputs": [],
   "source": [
    "import numpy as np\n",
    "import matplotlib.pyplot as plt \n",
    "%matplotlib inline\n",
    "from sklearn.ensemble import IsolationForest\n",
    "from sklearn.metrics import f1_score\n",
    "from DIFFI.data import get_fs_dataset, fs_datasets_hyperparameters\n",
    "from DIFFI.global_score import global_diffi_ranks "
   ]
  },
  {
   "cell_type": "markdown",
   "metadata": {},
   "source": [
    "### Load data"
   ]
  },
  {
   "cell_type": "code",
   "execution_count": 2,
   "metadata": {},
   "outputs": [],
   "source": [
    "dataset_id = 'lympho'\n",
    "X, y, contamination = get_fs_dataset(dataset_id, seed=42)"
   ]
  },
  {
   "cell_type": "markdown",
   "metadata": {},
   "source": [
    "### Get the feature ranking based on the global DIFFI method\n",
    "We use $N_{fs}=5$."
   ]
  },
  {
   "cell_type": "code",
   "execution_count": 3,
   "metadata": {},
   "outputs": [
    {
     "name": "stderr",
     "output_type": "stream",
     "text": [
      "/home/luciano/venvs/general38/lib/python3.8/site-packages/sklearn/ensemble/_iforest.py:263: UserWarning: max_samples (256) is greater than the total number of samples (148). max_samples will be set to n_samples for estimation.\n",
      "  warn(\"max_samples (%s) is greater than the \"\n",
      "/home/luciano/fuentes/DIFFI/DIFFI/global_score.py:155: RuntimeWarning: divide by zero encountered in true_divide\n",
      "  fi_ib = fi_outliers_ib / fi_inliers_ib\n",
      "/home/luciano/venvs/general38/lib/python3.8/site-packages/sklearn/ensemble/_iforest.py:263: UserWarning: max_samples (256) is greater than the total number of samples (148). max_samples will be set to n_samples for estimation.\n",
      "  warn(\"max_samples (%s) is greater than the \"\n",
      "/home/luciano/fuentes/DIFFI/DIFFI/global_score.py:155: RuntimeWarning: divide by zero encountered in true_divide\n",
      "  fi_ib = fi_outliers_ib / fi_inliers_ib\n",
      "/home/luciano/venvs/general38/lib/python3.8/site-packages/sklearn/ensemble/_iforest.py:263: UserWarning: max_samples (256) is greater than the total number of samples (148). max_samples will be set to n_samples for estimation.\n",
      "  warn(\"max_samples (%s) is greater than the \"\n",
      "/home/luciano/fuentes/DIFFI/DIFFI/global_score.py:155: RuntimeWarning: divide by zero encountered in true_divide\n",
      "  fi_ib = fi_outliers_ib / fi_inliers_ib\n",
      "/home/luciano/venvs/general38/lib/python3.8/site-packages/sklearn/ensemble/_iforest.py:263: UserWarning: max_samples (256) is greater than the total number of samples (148). max_samples will be set to n_samples for estimation.\n",
      "  warn(\"max_samples (%s) is greater than the \"\n",
      "/home/luciano/fuentes/DIFFI/DIFFI/global_score.py:155: RuntimeWarning: divide by zero encountered in true_divide\n",
      "  fi_ib = fi_outliers_ib / fi_inliers_ib\n",
      "/home/luciano/venvs/general38/lib/python3.8/site-packages/sklearn/ensemble/_iforest.py:263: UserWarning: max_samples (256) is greater than the total number of samples (148). max_samples will be set to n_samples for estimation.\n",
      "  warn(\"max_samples (%s) is greater than the \"\n",
      "/home/luciano/fuentes/DIFFI/DIFFI/global_score.py:155: RuntimeWarning: divide by zero encountered in true_divide\n",
      "  fi_ib = fi_outliers_ib / fi_inliers_ib\n"
     ]
    }
   ],
   "source": [
    "sorted_idx, avg_f1_ranking = global_diffi_ranks(X, y, n_estimators=100, max_samples=256, n_iter=5)"
   ]
  },
  {
   "cell_type": "markdown",
   "metadata": {},
   "source": [
    "### Train the Isolation Forest\n",
    "We train the Isolation Forest by exploiting a variable number $k$ of features, ranging from $1$ to $p$ (where $p$ is the maximum number of available features, which depends on the selected dataset). For each value of $k$, we perform $n_{iter}=30$ runs of the algorithm and compute the median F1 score. For the Isolation Forest we use hyperparameters values tuned on the original dataset (just to make sure we are considering a reasonable model)."
   ]
  },
  {
   "cell_type": "code",
   "execution_count": 4,
   "metadata": {},
   "outputs": [],
   "source": [
    "n_iter = 30\n",
    "\n",
    "n_feats_max = X.shape[1]\n",
    "y[y==1] = -1\n",
    "y[y==0] = 1\n",
    "hyper = fs_datasets_hyperparameters(dataset_id)\n",
    "out_dict = {}\n",
    "for n_feats in range(1, n_feats_max+1):\n",
    "    X_sel_feats = X[:, sorted_idx[:n_feats]]\n",
    "    f1_all = []\n",
    "    for j in range(n_iter):\n",
    "        m = IsolationForest(**hyper, random_state=j)\n",
    "        m.fit(X_sel_feats)\n",
    "        y_pred = m.predict(X_sel_feats)\n",
    "        f1_all.append(f1_score(y, y_pred))\n",
    "    out_dict[n_feats] = np.median(f1_all)"
   ]
  },
  {
   "cell_type": "markdown",
   "metadata": {},
   "source": [
    "### Plot average F1 score as a function of the number of features exploited"
   ]
  },
  {
   "cell_type": "code",
   "execution_count": 5,
   "metadata": {},
   "outputs": [
    {
     "data": {
      "text/plain": [
       "Text(0.5, 1.0, 'lympho dataset')"
      ]
     },
     "execution_count": 5,
     "metadata": {},
     "output_type": "execute_result"
    },
    {
     "data": {
      "image/png": "[encoded data removed]",
      "text/plain": [
       "<Figure size 432x288 with 1 Axes>"
      ]
     },
     "metadata": {
      "needs_background": "light"
     },
     "output_type": "display_data"
    }
   ],
   "source": [
    "plt.xticks(list(out_dict.keys()))\n",
    "plt.plot(list(out_dict.keys()), list(out_dict.values()), '-o')\n",
    "plt.xlabel('Num of features')\n",
    "plt.ylabel('F1 score (median)')\n",
    "plt.title('{} dataset'.format(dataset_id))"
   ]
  },
  {
   "cell_type": "code",
   "execution_count": null,
   "metadata": {},
   "outputs": [],
   "source": []
  }
 ],
 "metadata": {
  "kernelspec": {
   "display_name": "Python 3 (ipykernel)",
   "language": "python",
   "name": "python3"
  },
  "language_info": {
   "codemirror_mode": {
    "name": "ipython",
    "version": 3
   },
   "file_extension": ".py",
   "mimetype": "text/x-python",
   "name": "python",
   "nbconvert_exporter": "python",
   "pygments_lexer": "ipython3",
   "version": "3.8.6"
  }
 },
 "nbformat": 4,
 "nbformat_minor": 2
}
